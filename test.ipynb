{
 "cells": [
  {
   "cell_type": "code",
   "execution_count": 1,
   "id": "04c6a4b4-65c1-41bc-988d-d65a43c097ee",
   "metadata": {
    "execution": {
     "iopub.execute_input": "2024-05-18T18:35:16.520355Z",
     "iopub.status.busy": "2024-05-18T18:35:16.519336Z",
     "iopub.status.idle": "2024-05-18T18:35:16.940075Z",
     "shell.execute_reply": "2024-05-18T18:35:16.938803Z",
     "shell.execute_reply.started": "2024-05-18T18:35:16.520298Z"
    },
    "tags": []
   },
   "outputs": [],
   "source": [
    "import pandas as pd\n",
    "import numpy as np\n",
    "\n",
    "from main import InvertedIndex"
   ]
  },
  {
   "cell_type": "code",
   "execution_count": 2,
   "id": "a9f018d0-b598-45cf-ae0c-b30fdaba83a6",
   "metadata": {
    "execution": {
     "iopub.execute_input": "2024-05-18T18:35:16.942321Z",
     "iopub.status.busy": "2024-05-18T18:35:16.942011Z",
     "iopub.status.idle": "2024-05-18T18:35:16.947252Z",
     "shell.execute_reply": "2024-05-18T18:35:16.946131Z",
     "shell.execute_reply.started": "2024-05-18T18:35:16.942298Z"
    },
    "tags": []
   },
   "outputs": [],
   "source": [
    "inv_idx = InvertedIndex()"
   ]
  },
  {
   "cell_type": "code",
   "execution_count": 3,
   "id": "7ff9d604-d98b-476e-af98-a134aa30d349",
   "metadata": {
    "execution": {
     "iopub.execute_input": "2024-05-18T18:35:16.948562Z",
     "iopub.status.busy": "2024-05-18T18:35:16.948240Z",
     "iopub.status.idle": "2024-05-18T18:35:17.970835Z",
     "shell.execute_reply": "2024-05-18T18:35:17.969787Z",
     "shell.execute_reply.started": "2024-05-18T18:35:16.948540Z"
    },
    "tags": []
   },
   "outputs": [],
   "source": [
    "inv_idx.merge_jsons(['data/meduzalive.json', 'data/naukamsu.json', 'data/spbuniversity.json'])"
   ]
  },
  {
   "cell_type": "code",
   "execution_count": 4,
   "id": "ba2adc0c-b9fb-4dbd-b287-7159969f18d3",
   "metadata": {
    "execution": {
     "iopub.execute_input": "2024-05-18T18:35:17.972067Z",
     "iopub.status.busy": "2024-05-18T18:35:17.971853Z",
     "iopub.status.idle": "2024-05-18T18:35:19.122942Z",
     "shell.execute_reply": "2024-05-18T18:35:19.121911Z",
     "shell.execute_reply.started": "2024-05-18T18:35:17.972047Z"
    },
    "tags": []
   },
   "outputs": [],
   "source": [
    "inv_idx.get_inverted_index()"
   ]
  },
  {
   "cell_type": "code",
   "execution_count": 5,
   "id": "9658e38c-a647-4baf-83ef-55dc68bdce3c",
   "metadata": {
    "execution": {
     "iopub.execute_input": "2024-05-18T18:35:19.124224Z",
     "iopub.status.busy": "2024-05-18T18:35:19.124016Z",
     "iopub.status.idle": "2024-05-18T18:35:20.332311Z",
     "shell.execute_reply": "2024-05-18T18:35:20.331201Z",
     "shell.execute_reply.started": "2024-05-18T18:35:19.124205Z"
    },
    "tags": []
   },
   "outputs": [],
   "source": [
    "inv_idx.encode_delta()"
   ]
  },
  {
   "cell_type": "code",
   "execution_count": 6,
   "id": "9a81708a-2994-4658-817e-8cdfbf702346",
   "metadata": {
    "execution": {
     "iopub.execute_input": "2024-05-18T18:35:20.333561Z",
     "iopub.status.busy": "2024-05-18T18:35:20.333354Z",
     "iopub.status.idle": "2024-05-18T18:35:21.240604Z",
     "shell.execute_reply": "2024-05-18T18:35:21.239393Z",
     "shell.execute_reply.started": "2024-05-18T18:35:20.333542Z"
    },
    "tags": []
   },
   "outputs": [],
   "source": [
    "inv_idx.encode_gamma()"
   ]
  },
  {
   "cell_type": "code",
   "execution_count": 7,
   "id": "164a8a7b-b059-43d2-a476-f35e4602cc61",
   "metadata": {
    "execution": {
     "iopub.execute_input": "2024-05-18T18:35:21.242793Z",
     "iopub.status.busy": "2024-05-18T18:35:21.242565Z",
     "iopub.status.idle": "2024-05-18T18:35:21.248481Z",
     "shell.execute_reply": "2024-05-18T18:35:21.247425Z",
     "shell.execute_reply.started": "2024-05-18T18:35:21.242764Z"
    },
    "tags": []
   },
   "outputs": [],
   "source": [
    "df = inv_idx.find('Ректор МГУ', encoding=None)"
   ]
  },
  {
   "cell_type": "code",
   "execution_count": 8,
   "id": "fd17281f-dae8-478c-b48b-7c454aada79d",
   "metadata": {
    "execution": {
     "iopub.execute_input": "2024-05-18T18:35:21.249236Z",
     "iopub.status.busy": "2024-05-18T18:35:21.249055Z",
     "iopub.status.idle": "2024-05-18T18:35:21.257915Z",
     "shell.execute_reply": "2024-05-18T18:35:21.257029Z",
     "shell.execute_reply.started": "2024-05-18T18:35:21.249220Z"
    },
    "tags": []
   },
   "outputs": [
    {
     "data": {
      "text/plain": [
       "'МГУ занял первое место в рейтинге лучших вузов России RAEX-100\\n#рейтинги_мгу\\n\\n7 июня вышел двенадцатый ежегодный рейтинг лучших вузов России RAEX-100, входящий в семейство рейтингов «Три миссии университета». По его итогам лидером отечественной высшей школы стал Московский университет. При подготовке рейтинга использовались статистические показатели, а также результаты опросов свыше 120 тыс. респондентов: представителей академических и научных кругов, студентов и выпускников, работодателей.\\n\\nРектор Московского университета академик Виктор Садовничий: «Лидерство МГУ в ежегодных рейтингах лучших вузов России отражает высокую востребованность обществом многогранной научно-образовательной и просветительской деятельности ведущего университета страны. Совпадая с вектором трансформации национальной высшей школы на современном этапе, Московский университет реализует масштабные задачи как в области подготовки высокопрофессиональных кадров, так и в исследовательской работе. Безусловный приоритет фундаментального образования, создание условий для раскрытия интеллектуального потенциала каждого студента создает хорошие условия для того, чтобы стать моделью для всего университетского сообщества. Практическое взаимодействие с экономикой, промышленностью, регионами нацелено на достижение технологического суверенитета, повышение роли знаний, значимо для целых отраслей и территорий. Усилия коллектива университета направлены на обеспечение максимально полного раскрытия всех трех миссий университета, эффективную реализацию нашей программы развития на период до 2030 года».\\n\\nВсего в топ-100 вошли университеты из 29 регионов России. 33 участника рейтинга представляют Москву, 13 – Санкт-Петербург, пять – Подмосковье. Также в списке лучших широко представлены Томская область, Татарстан и Самарская область (по четыре вуза), а также Ростовская и Волгоградская области (по три участника).\\n\\nПодробнее на сайте МГУ.'"
      ]
     },
     "execution_count": 8,
     "metadata": {},
     "output_type": "execute_result"
    }
   ],
   "source": [
    "df.loc[7694].message"
   ]
  },
  {
   "cell_type": "code",
   "execution_count": 9,
   "id": "f18af208-49fb-4ba2-a8be-cc340e8a1e62",
   "metadata": {
    "execution": {
     "iopub.execute_input": "2024-05-18T18:35:21.258772Z",
     "iopub.status.busy": "2024-05-18T18:35:21.258594Z",
     "iopub.status.idle": "2024-05-18T18:35:21.274078Z",
     "shell.execute_reply": "2024-05-18T18:35:21.273187Z",
     "shell.execute_reply.started": "2024-05-18T18:35:21.258756Z"
    },
    "tags": []
   },
   "outputs": [
    {
     "data": {
      "text/html": [
       "<div>\n",
       "<style scoped>\n",
       "    .dataframe tbody tr th:only-of-type {\n",
       "        vertical-align: middle;\n",
       "    }\n",
       "\n",
       "    .dataframe tbody tr th {\n",
       "        vertical-align: top;\n",
       "    }\n",
       "\n",
       "    .dataframe thead th {\n",
       "        text-align: right;\n",
       "    }\n",
       "</style>\n",
       "<table border=\"1\" class=\"dataframe\">\n",
       "  <thead>\n",
       "    <tr style=\"text-align: right;\">\n",
       "      <th></th>\n",
       "      <th>date</th>\n",
       "      <th>message</th>\n",
       "      <th>views</th>\n",
       "      <th>forwards</th>\n",
       "      <th>replies</th>\n",
       "    </tr>\n",
       "  </thead>\n",
       "  <tbody>\n",
       "    <tr>\n",
       "      <th>0</th>\n",
       "      <td>2024-05-17 12:34:59+00:00</td>\n",
       "      <td>«Они летят не переставая. Это просто мрак како...</td>\n",
       "      <td>47872.0</td>\n",
       "      <td>348.0</td>\n",
       "      <td>NaN</td>\n",
       "    </tr>\n",
       "    <tr>\n",
       "      <th>1</th>\n",
       "      <td>2024-05-17 12:14:04+00:00</td>\n",
       "      <td>Разработчики GTA VI пообещали, что игра выйдет...</td>\n",
       "      <td>73974.0</td>\n",
       "      <td>420.0</td>\n",
       "      <td>NaN</td>\n",
       "    </tr>\n",
       "    <tr>\n",
       "      <th>2</th>\n",
       "      <td>2024-05-17 11:55:17+00:00</td>\n",
       "      <td>Планов по взятию Харькова сейчас нет. От перег...</td>\n",
       "      <td>85550.0</td>\n",
       "      <td>107.0</td>\n",
       "      <td>NaN</td>\n",
       "    </tr>\n",
       "    <tr>\n",
       "      <th>7</th>\n",
       "      <td>2024-05-17 11:35:23+00:00</td>\n",
       "      <td>Российские танки Т-90М «Прорыв» занимают позиц...</td>\n",
       "      <td>98082.0</td>\n",
       "      <td>0.0</td>\n",
       "      <td>NaN</td>\n",
       "    </tr>\n",
       "    <tr>\n",
       "      <th>8</th>\n",
       "      <td>2024-05-17 11:13:23+00:00</td>\n",
       "      <td>Больше 50 священников РПЦ подверглись репресси...</td>\n",
       "      <td>115917.0</td>\n",
       "      <td>175.0</td>\n",
       "      <td>NaN</td>\n",
       "    </tr>\n",
       "    <tr>\n",
       "      <th>...</th>\n",
       "      <td>...</td>\n",
       "      <td>...</td>\n",
       "      <td>...</td>\n",
       "      <td>...</td>\n",
       "      <td>...</td>\n",
       "    </tr>\n",
       "    <tr>\n",
       "      <th>10842</th>\n",
       "      <td>2021-01-25 17:08:39+00:00</td>\n",
       "      <td>Наводнения — неотъемлемая часть жизни Петербур...</td>\n",
       "      <td>1211.0</td>\n",
       "      <td>2.0</td>\n",
       "      <td>NaN</td>\n",
       "    </tr>\n",
       "    <tr>\n",
       "      <th>10843</th>\n",
       "      <td>2021-01-21 15:58:29+00:00</td>\n",
       "      <td>Биогибриды или фармациты — синтез природного и...</td>\n",
       "      <td>1463.0</td>\n",
       "      <td>1.0</td>\n",
       "      <td>NaN</td>\n",
       "    </tr>\n",
       "    <tr>\n",
       "      <th>10844</th>\n",
       "      <td>2021-01-20 18:02:33+00:00</td>\n",
       "      <td>Часто ли вы испытываете чувство вины? На самои...</td>\n",
       "      <td>1524.0</td>\n",
       "      <td>4.0</td>\n",
       "      <td>NaN</td>\n",
       "    </tr>\n",
       "    <tr>\n",
       "      <th>10845</th>\n",
       "      <td>2021-01-20 12:12:07+00:00</td>\n",
       "      <td>С приходом пандемии COVID-19 мы забыли, что ви...</td>\n",
       "      <td>1130.0</td>\n",
       "      <td>0.0</td>\n",
       "      <td>NaN</td>\n",
       "    </tr>\n",
       "    <tr>\n",
       "      <th>10846</th>\n",
       "      <td>2021-01-19 15:53:29+00:00</td>\n",
       "      <td>Учёные СПбГУ нашли способ лучше запоминать абс...</td>\n",
       "      <td>969.0</td>\n",
       "      <td>2.0</td>\n",
       "      <td>NaN</td>\n",
       "    </tr>\n",
       "  </tbody>\n",
       "</table>\n",
       "<p>6579 rows × 5 columns</p>\n",
       "</div>"
      ],
      "text/plain": [
       "                           date   \n",
       "0     2024-05-17 12:34:59+00:00  \\\n",
       "1     2024-05-17 12:14:04+00:00   \n",
       "2     2024-05-17 11:55:17+00:00   \n",
       "7     2024-05-17 11:35:23+00:00   \n",
       "8     2024-05-17 11:13:23+00:00   \n",
       "...                         ...   \n",
       "10842 2021-01-25 17:08:39+00:00   \n",
       "10843 2021-01-21 15:58:29+00:00   \n",
       "10844 2021-01-20 18:02:33+00:00   \n",
       "10845 2021-01-20 12:12:07+00:00   \n",
       "10846 2021-01-19 15:53:29+00:00   \n",
       "\n",
       "                                                 message     views  forwards   \n",
       "0      «Они летят не переставая. Это просто мрак како...   47872.0     348.0  \\\n",
       "1      Разработчики GTA VI пообещали, что игра выйдет...   73974.0     420.0   \n",
       "2      Планов по взятию Харькова сейчас нет. От перег...   85550.0     107.0   \n",
       "7      Российские танки Т-90М «Прорыв» занимают позиц...   98082.0       0.0   \n",
       "8      Больше 50 священников РПЦ подверглись репресси...  115917.0     175.0   \n",
       "...                                                  ...       ...       ...   \n",
       "10842  Наводнения — неотъемлемая часть жизни Петербур...    1211.0       2.0   \n",
       "10843  Биогибриды или фармациты — синтез природного и...    1463.0       1.0   \n",
       "10844  Часто ли вы испытываете чувство вины? На самои...    1524.0       4.0   \n",
       "10845  С приходом пандемии COVID-19 мы забыли, что ви...    1130.0       0.0   \n",
       "10846  Учёные СПбГУ нашли способ лучше запоминать абс...     969.0       2.0   \n",
       "\n",
       "       replies  \n",
       "0          NaN  \n",
       "1          NaN  \n",
       "2          NaN  \n",
       "7          NaN  \n",
       "8          NaN  \n",
       "...        ...  \n",
       "10842      NaN  \n",
       "10843      NaN  \n",
       "10844      NaN  \n",
       "10845      NaN  \n",
       "10846      NaN  \n",
       "\n",
       "[6579 rows x 5 columns]"
      ]
     },
     "execution_count": 9,
     "metadata": {},
     "output_type": "execute_result"
    }
   ],
   "source": [
    "inv_idx.df"
   ]
  }
 ],
 "metadata": {
  "kernelspec": {
   "display_name": "Python 3 (ipykernel)",
   "language": "python",
   "name": "python3"
  },
  "language_info": {
   "codemirror_mode": {
    "name": "ipython",
    "version": 3
   },
   "file_extension": ".py",
   "mimetype": "text/x-python",
   "name": "python",
   "nbconvert_exporter": "python",
   "pygments_lexer": "ipython3",
   "version": "3.8.16"
  }
 },
 "nbformat": 4,
 "nbformat_minor": 5
}
